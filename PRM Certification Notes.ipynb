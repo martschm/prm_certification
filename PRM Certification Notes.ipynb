{
 "cells": [
  {
   "cell_type": "markdown",
   "metadata": {},
   "source": [
    "# PRM Certification\n",
    "# Exam I: Finance Theory, Financial Instruments, Financial Markets"
   ]
  },
  {
   "cell_type": "code",
   "execution_count": 1,
   "metadata": {},
   "outputs": [],
   "source": [
    "from math import *"
   ]
  },
  {
   "cell_type": "markdown",
   "metadata": {},
   "source": [
    "<hr>\n",
    "\n",
    "## I.A.0 - Interest Rates and Time Value"
   ]
  },
  {
   "cell_type": "markdown",
   "metadata": {},
   "source": [
    "Money has a time value that results from investment opportunities. The interest rate represents the price paid to use money for a period and is referred to as the **time value** of money."
   ]
  },
  {
   "cell_type": "markdown",
   "metadata": {},
   "source": [
    "Two methods for calculating interest:\n",
    "- discrete compounding\n",
    "- continuous compounding"
   ]
  },
  {
   "cell_type": "markdown",
   "metadata": {},
   "source": [
    "Future value (FV) of an investment earning **simple interest** is given by\n",
    "$FV = P(1+rt)$, where P is the principal, r is the annual interest rate and t is the length of time of the investment in years."
   ]
  },
  {
   "cell_type": "code",
   "execution_count": 2,
   "metadata": {},
   "outputs": [],
   "source": [
    "# future value of an investment earning simple interest\n",
    "def future_value_simple_interest(P, r, t):\n",
    "    fv = P*(1+r*t)\n",
    "    return fv"
   ]
  },
  {
   "cell_type": "markdown",
   "metadata": {},
   "source": [
    "Compound interest pays interest on both the principal and previous interest payments. The future value of a principal amount that earns **compound interest** is given by $FV = P(1+r)^n$, where P is the amount invested, r is the per-period interest rate and n is the number of periods."
   ]
  },
  {
   "cell_type": "code",
   "execution_count": 3,
   "metadata": {},
   "outputs": [],
   "source": [
    "# future value of an investment earning compound interest\n",
    "def future_value_compound_interest(P, r, n):\n",
    "    fv = P*(1+r)**n\n",
    "    return fv"
   ]
  },
  {
   "cell_type": "markdown",
   "metadata": {},
   "source": [
    "Investments with continuously compounded interest earn interest so frequently that the period between interest-rate calculations approaches zero (not used in practice but for option pricing). The future value of an investment that earns **continuously compounded** interest is given by $FV = Pe^{rt}$, where P is the amount invested, r is the annual interest rate and t is the number of years of the investement. "
   ]
  },
  {
   "cell_type": "code",
   "execution_count": 4,
   "metadata": {},
   "outputs": [],
   "source": [
    "# future value of an investment earning continous compounded interest\n",
    "def future_value_continuous_compound_interest(P, r, t):\n",
    "    fv = P*exp(r*t)\n",
    "    return fv"
   ]
  },
  {
   "cell_type": "markdown",
   "metadata": {},
   "source": [
    "**General compound interest formula:** $FV = P\\left(1+\\frac{r}{m}\\right)^{mt}$, where P is the principal invested, r is the nominal interest rate per annum, m is the number of compounding periods per year and t is the term of the investment in years. $\\frac{r}{m}$ represents the per-period interest rate and $mt$ represents the number of compounding periods over the term of the investment. "
   ]
  },
  {
   "cell_type": "code",
   "execution_count": 5,
   "metadata": {},
   "outputs": [],
   "source": [
    "# general formula for compound interest\n",
    "def future_value_compound_interest_general(P, r, m, t):\n",
    "    fv = P*(1+(r/m))**(m*t)\n",
    "    return fv"
   ]
  },
  {
   "cell_type": "markdown",
   "metadata": {},
   "source": [
    "The nominal interest rate or annual percentage rate (APR) is the stated rate of interest for the investment. The nominal interest rate does not consider the effect of compounding. The effective annual yield reflects the effect of compound interest on the onvestement for a one-year period.\n",
    "\n",
    "The **effective yield (anual percentage yield, APY)** is calculated as $EY = \\frac{\\textrm{absolute increase}}{\\textrm{principal}}$.\n",
    "\n",
    "Alternative formula for the **effective yield** when **discrete compounding** is used: $EY = \\left(1+\\frac{r}{m}\\right)^{m}-1$."
   ]
  },
  {
   "cell_type": "code",
   "execution_count": 6,
   "metadata": {},
   "outputs": [],
   "source": [
    "# effective yield when discrete compounding is used\n",
    "def effective_yield_discrete_compounding(r, m):\n",
    "    ey = (1+(r/m))^m-1\n",
    "    return ey"
   ]
  },
  {
   "cell_type": "markdown",
   "metadata": {},
   "source": [
    "Alternative formula for the **effective yield** when **continuous compounding** is used: $EY = e^r -1$."
   ]
  },
  {
   "cell_type": "code",
   "execution_count": 7,
   "metadata": {},
   "outputs": [],
   "source": [
    "# effective yield when continuous compounding is used\n",
    "def effective_yield_continuous_compounding(r):\n",
    "    ey = exp(r)-1\n",
    "    return ey"
   ]
  },
  {
   "cell_type": "markdown",
   "metadata": {},
   "source": [
    "<hr>\n",
    "\n",
    "## I.A.1 - Risk and Risk Aversion"
   ]
  },
  {
   "cell_type": "markdown",
   "metadata": {},
   "source": [
    "Risk Management is the art of making decisions in an uncertain world."
   ]
  },
  {
   "cell_type": "markdown",
   "metadata": {},
   "source": [
    "**Four preference axioms underpinning utility theory:**\n",
    "- **Transitivity of choice**: all possible outcomes of a decision can be ranked by preference\n",
    "- **Continuity of choice**: if among three outcomes A, B and C we strictly prefer A to B and B to C then B is the certainty equivalent (CE) of some lottery between A and C\n",
    "- **Independence of choice**: preference order should not be affected by the way of presentation, provided the same relevant information is presented, nor by the availability of other choices\n",
    "- **Stochastic dominance**: between two lotteries offering the same two possible outcomes, we ougth to prefer the lottery offering the larger probability of yielding the preferred outcome\n",
    "\n",
    "These four axioms are necessary and sufficient to establish the concept of utility."
   ]
  },
  {
   "cell_type": "markdown",
   "metadata": {},
   "source": [
    "A **utility function** $u(w)$ of total wealth should be a continuous, non-decreasing function of $w$ (unctions of wealth and not of changes in wealth. In other words: Local risk attitude usually varies with the current degree in wealth). A small increase in wealth should produce a small increase in utiliy. Non-decreasing, as greater wealth is preferred to lesser wealth (additional *axiom of non-satiation*)."
   ]
  },
  {
   "cell_type": "markdown",
   "metadata": {},
   "source": [
    "A downward curvature (concave utility function) expresses risk aversion. An upward curvature (convex utility function) indicates a risk-seeking attitude. A straigth-line utility function reflects a risk-neutral attitude.\n",
    "\n",
    "Risk aversion is the norm in business decisions. A utility function should be non-decreasing, very smooth (continuous first- and second-order derivatives) and concave for business decisions."
   ]
  },
  {
   "cell_type": "markdown",
   "metadata": {},
   "source": [
    "**Local absolute risk aversion (ARA):** $\\displaystyle \\frac{-u^{''}(x)}{u^{'}(x)}$ (positive for concave utility function)"
   ]
  },
  {
   "cell_type": "markdown",
   "metadata": {},
   "source": [
    "**Local absolute risk tolerance (ART):** $\\displaystyle \\frac{-u^{'}(x)}{u^{''}(x)}$ (expressed in same monetary units as x, easier to interpret than ARA)"
   ]
  },
  {
   "cell_type": "markdown",
   "metadata": {},
   "source": []
  },
  {
   "cell_type": "markdown",
   "metadata": {},
   "source": []
  },
  {
   "cell_type": "markdown",
   "metadata": {},
   "source": []
  },
  {
   "cell_type": "markdown",
   "metadata": {},
   "source": []
  },
  {
   "cell_type": "markdown",
   "metadata": {},
   "source": []
  },
  {
   "cell_type": "markdown",
   "metadata": {},
   "source": []
  },
  {
   "cell_type": "markdown",
   "metadata": {},
   "source": []
  },
  {
   "cell_type": "markdown",
   "metadata": {},
   "source": []
  },
  {
   "cell_type": "markdown",
   "metadata": {},
   "source": []
  },
  {
   "cell_type": "markdown",
   "metadata": {},
   "source": []
  },
  {
   "cell_type": "markdown",
   "metadata": {},
   "source": []
  },
  {
   "cell_type": "markdown",
   "metadata": {},
   "source": []
  },
  {
   "cell_type": "markdown",
   "metadata": {},
   "source": []
  },
  {
   "cell_type": "markdown",
   "metadata": {},
   "source": []
  },
  {
   "cell_type": "markdown",
   "metadata": {},
   "source": []
  },
  {
   "cell_type": "markdown",
   "metadata": {},
   "source": []
  },
  {
   "cell_type": "markdown",
   "metadata": {},
   "source": []
  },
  {
   "cell_type": "markdown",
   "metadata": {},
   "source": []
  },
  {
   "cell_type": "markdown",
   "metadata": {},
   "source": []
  }
 ],
 "metadata": {
  "kernelspec": {
   "display_name": "Python 3",
   "language": "python",
   "name": "python3"
  },
  "language_info": {
   "codemirror_mode": {
    "name": "ipython",
    "version": 3
   },
   "file_extension": ".py",
   "mimetype": "text/x-python",
   "name": "python",
   "nbconvert_exporter": "python",
   "pygments_lexer": "ipython3",
   "version": "3.7.6"
  }
 },
 "nbformat": 4,
 "nbformat_minor": 4
}
