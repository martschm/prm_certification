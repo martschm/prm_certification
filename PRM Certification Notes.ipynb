{
 "cells": [
  {
   "cell_type": "markdown",
   "metadata": {},
   "source": [
    "# PRM Certification\n",
    "# Exam I: Finance Theory, Financial Instruments, Financial Markets"
   ]
  },
  {
   "cell_type": "code",
   "execution_count": 1,
   "metadata": {},
   "outputs": [],
   "source": [
    "from math import *"
   ]
  },
  {
   "cell_type": "markdown",
   "metadata": {},
   "source": [
    "<hr>\n",
    "\n",
    "## I.A.0 - Interest Rates and Time Value"
   ]
  },
  {
   "cell_type": "markdown",
   "metadata": {},
   "source": [
    "Money has a time value that results from investment opportunities. The interest rate represents the price paid to use money for a period and is referred to as the **time value** of money."
   ]
  },
  {
   "cell_type": "markdown",
   "metadata": {},
   "source": [
    "Two methods for calculating interest:<br>\n",
    "\n",
    "- discrete compounding<br>\n",
    "- continuous compounding"
   ]
  },
  {
   "cell_type": "markdown",
   "metadata": {},
   "source": [
    "Future value (FV) of an investment earning **simple interest** is given by\n",
    "$FV = P(1+rt)$, where P is the principal, r is the annual interest rate and t is the length of time of the investment in years."
   ]
  },
  {
   "cell_type": "code",
   "execution_count": 2,
   "metadata": {},
   "outputs": [],
   "source": [
    "# future value of an investment earning simple interest\n",
    "def future_value_simple_interest(P, r, t):\n",
    "    fv = P*(1+r*t)\n",
    "    return fv"
   ]
  },
  {
   "cell_type": "markdown",
   "metadata": {},
   "source": [
    "Compound interest pays interest on both the principal and previous interest payments. The future value of a principal amount that earns **compound interest** is given by $FV = P(1+r)^n$, where P is the amount invested, r is the per-period interest rate and n is the number of periods."
   ]
  },
  {
   "cell_type": "code",
   "execution_count": 3,
   "metadata": {},
   "outputs": [],
   "source": [
    "# future value of an investment earning compound interest\n",
    "def future_value_compound_interest(P, r, n):\n",
    "    fv = P*(1+r)**n\n",
    "    return fv"
   ]
  },
  {
   "cell_type": "markdown",
   "metadata": {},
   "source": [
    "Investments with continuously compounded interest earn interest so frequently that the period between interest-rate calculations approaches zero (not used in practice but for option pricing). The future value of an investment that earns **continuously compounded** interest is given by $FV = Pe^{rt}$, where P is the amount invested, r is the annual interest rate and t is the number of years of the investement. "
   ]
  },
  {
   "cell_type": "code",
   "execution_count": 4,
   "metadata": {},
   "outputs": [],
   "source": [
    "# future value of an investment earning continous compounded interest\n",
    "def future_value_continuous_compound_interest(P, r, t):\n",
    "    fv = P*exp(r*t)\n",
    "    return fv"
   ]
  },
  {
   "cell_type": "markdown",
   "metadata": {},
   "source": [
    "**General compound interest formula:** $FV = P\\left(1+\\frac{r}{m}\\right)^{mt}$, where P is the principal invested, r is the nominal interest rate per annum, m is the number of compounding periods per year and t is the term of the investment in years. $\\frac{r}{m}$ represents the per-period interest rate and $mt$ represents the number of compounding periods over the term of the investment. "
   ]
  },
  {
   "cell_type": "code",
   "execution_count": 5,
   "metadata": {},
   "outputs": [],
   "source": [
    "# general formula for compound interest\n",
    "def future_value_compound_interest_general(P, r, m, t):\n",
    "    fv = P*(1+(r/m))**(m*t)\n",
    "    return fv"
   ]
  },
  {
   "cell_type": "markdown",
   "metadata": {},
   "source": [
    "The nominal interest rate or annual percentage rate (APR) is the stated rate of interest for the investment. The nominal interest rate does not consider the effect of compounding. The effective annual yield reflects the effect of compound interest on the onvestement for a one-year period.\n",
    "\n",
    "The **effective yield (anual percentage yield, APY)** is calculated as $EY = \\frac{\\textrm{absolute increase}}{\\textrm{principal}}$.\n",
    "\n",
    "Alternative formula for the **effective yield** when **discrete compounding** is used: $EY = \\left(1+\\frac{r}{m}\\right)^{m}-1$."
   ]
  },
  {
   "cell_type": "code",
   "execution_count": 6,
   "metadata": {},
   "outputs": [],
   "source": [
    "# effective yield when discrete compounding is used\n",
    "def effective_yield_discrete_compounding(r, m):\n",
    "    ey = (1+(r/m))^m-1\n",
    "    return ey"
   ]
  },
  {
   "cell_type": "markdown",
   "metadata": {},
   "source": [
    "Alternative formula for the **effective yield** when **continuous compounding** is used: $EY = e^r -1$."
   ]
  },
  {
   "cell_type": "code",
   "execution_count": 7,
   "metadata": {},
   "outputs": [],
   "source": [
    "# effective yield when continuous compounding is used\n",
    "def effective_yield_continuous_compounding(r):\n",
    "    ey = exp(r)-1\n",
    "    return ey"
   ]
  },
  {
   "cell_type": "markdown",
   "metadata": {},
   "source": [
    "<hr>\n",
    "\n",
    "## I.A.1 - Risk and Risk Aversion"
   ]
  },
  {
   "cell_type": "markdown",
   "metadata": {},
   "source": [
    "Risk Management is the art of making decisions in an uncertain world."
   ]
  },
  {
   "cell_type": "markdown",
   "metadata": {},
   "source": [
    "**Four preference axioms underpinning utility theory:**<br>\n",
    "\n",
    "- **Transitivity of choice**: all possible outcomes of a decision can be ranked by preference<br>\n",
    "- **Continuity of choice**: if among three outcomes A, B and C we strictly prefer A to B and B to C then B is the certainty equivalent (CE) of some lottery between A and C<br>\n",
    "- **Independence of choice**: preference order should not be affected by the way of presentation, provided the same relevant information is presented, nor by the availability of other choices<br>\n",
    "- **Stochastic dominance**: between two lotteries offering the same two possible outcomes, we ougth to prefer the lottery offering the larger probability of yielding the preferred outcome<br>\n",
    "\n",
    "These four axioms are necessary and sufficient to establish the concept of utility."
   ]
  },
  {
   "cell_type": "markdown",
   "metadata": {},
   "source": [
    "A **utility function** $u(w)$ of total wealth should be a continuous, non-decreasing function of $w$ (unctions of wealth and not of changes in wealth. In other words: Local risk attitude usually varies with the current degree in wealth). A small increase in wealth should produce a small increase in utiliy. Non-decreasing, as greater wealth is preferred to lesser wealth (additional *axiom of non-satiation*)."
   ]
  },
  {
   "cell_type": "markdown",
   "metadata": {},
   "source": [
    "A downward curvature (concave utility function) expresses risk aversion. An upward curvature (convex utility function) indicates a risk-seeking attitude. A straigth-line utility function reflects a risk-neutral attitude.\n",
    "\n",
    "Risk aversion is the norm in business decisions. A utility function should be non-decreasing, very smooth (continuous first- and second-order derivatives) and concave for business decisions."
   ]
  },
  {
   "cell_type": "markdown",
   "metadata": {},
   "source": [
    "**Local absolute risk aversion (ARA):** $\\displaystyle \\frac{-u^{''}(x)}{u^{'}(x)}$ (positive for concave utility function)"
   ]
  },
  {
   "cell_type": "markdown",
   "metadata": {},
   "source": [
    "**Local absolute risk tolerance (ART):** $\\displaystyle \\frac{-u^{'}(x)}{u^{''}(x)}$ (expressed in same monetary units as x, easier to interpret than ARA)"
   ]
  },
  {
   "cell_type": "markdown",
   "metadata": {},
   "source": [
    "**Certainty Equivalent (CE)** of a gamble X is the sure cash amount we would be willing to exchange for the gamble, i.e. $u(CE(X)) = \\mathbb{E}(u(X))$.\n",
    "\n",
    "Choosing the alternative with the maximum expected utility (EU) is equivalent to choosing the alternative with the maximum CE becasue the utility function is increasing.\n",
    "\n",
    "A decision criterion should produce a CE, otherwise the criterion would not be able to compare a risky prospect with a sure reward."
   ]
  },
  {
   "cell_type": "markdown",
   "metadata": {},
   "source": [
    "**>>> Summary so far:**\n",
    "\n",
    "Financial risks are gambles or lotteries with cash-valued outcomes and probabilities attached to each outcome. Rational decisions between financial risks are achieved by:<br>\n",
    "\n",
    "- Defining a utility function<br>\n",
    "- Calculating the expted utility $\\mathbb{E}(u(X))$ of each lottery X within the context of existing risks<br>\n",
    "- Choosing the lottery that has the largest EU or, equivalently, choosing the lottery with the largest CE<br>\n",
    "\n",
    "Current degree of wealth is usually taken as the origin of the scale on which future outcomes are valued, wealth and risk attitutde are likely to evolve. Each new course of action should be considered in the context of current uncertainties and risk attitude."
   ]
  },
  {
   "cell_type": "markdown",
   "metadata": {},
   "source": [
    "### Mean-Variance Criterion"
   ]
  },
  {
   "cell_type": "markdown",
   "metadata": {},
   "source": [
    "Armed with a utility function, one can evaluate the CE of any project whose outcomes fall within the domain over which the utility function has been defined. A complete utility function is needed to evaluate decisions in which low probability but extreme outcomes might occur."
   ]
  },
  {
   "cell_type": "markdown",
   "metadata": {},
   "source": [
    "The curvature of the utility function expresses the risk aversion of a decision maker. This property is used to define a simplified version of the maximum EU principle, the *meanvariance (MV) criterion*.\n",
    "\n",
    "The **MV criterion** for choosing among lotteries $X_1, ..., X_n$ with is:  $\\displaystyle \\max\\left(E(X_i) - \\frac{Var(X_i)}{2\\lambda}\\right)$\n",
    "\n",
    "where $\\lambda$ characterises the supposedly constant absolute risk tolerance of the decision maker.\n",
    "\n",
    "If the outcomes depend on other uncertainties the decision maker already faces (e.g. Y), the variance estimates in the above equation should be the marginal contribution of the new gambles to the total variance. The MV criterion then becomes $\\displaystyle \\max\\left(E(X_i) - \\frac{Var(X_i) + 2Cov(X_i,Y)}{2\\lambda}\\right)$. \n",
    "\n",
    "The decision will be affected by the diversification potential, i.e. the covariance between Y and X."
   ]
  },
  {
   "cell_type": "markdown",
   "metadata": {},
   "source": [
    "The MV criterion can be used to obtain a quick estimate of the risk tolerance of a firm or individual."
   ]
  },
  {
   "cell_type": "markdown",
   "metadata": {},
   "source": [
    "**Applications of the MV criterion:**<br>\n",
    "\n",
    "- Application in portfolio selection, capital budgeting, optimal hedging, ...<br>\n",
    "- The MV criterion is a useful simplification of the principle of maximum EU when the range of outcomes under consideration does not exceed plus or minus one coefficient of risk tolerance<br>\n",
    "- During some circumstances (e.g. large risks, skewed distributions), choices guided by mean-variance considerations might only deviate markedly from choices guided by the principle of maximum EU"
   ]
  },
  {
   "cell_type": "markdown",
   "metadata": {},
   "source": [
    "### Risk-Adjusted Performance Measures"
   ]
  },
  {
   "cell_type": "markdown",
   "metadata": {},
   "source": [
    "Maximizing expected utility tells us, which of several gables (e.g. which portfolio) an investor should prefer.\n",
    "\n",
    "**Risk-adjusted performance measures (RAPM)** - usually a *ratio of expected excess return above some threshold over some measures of risk* - provide a perference ranking among risky assets, assuming only that the investor is risk averse (without specifying the risk attitude). A RAPM gives an indication about the relative attactiveness of a risky portfolio assuming that each would be optimally invested into, but without indicating what the optimal investments are.\n",
    "\n",
    "RAPMs are easy to calculate and do not require a statement of personal risk attitude. In reality, their meaningfullness is unclear.\n",
    "\n",
    "Traditional RAPMs: Sharpe Ratio, Information Ratio, Jensen Alpha, RAROC, RoVaR, Kappa Indices (e.g. Sortino Index) and Omega Ratio. "
   ]
  },
  {
   "cell_type": "markdown",
   "metadata": {},
   "source": [
    "#### Sharpe Ratio"
   ]
  },
  {
   "cell_type": "markdown",
   "metadata": {},
   "source": [
    "$SR = \\dfrac{\\mu - r_f}{\\sigma}$,\n",
    "\n",
    "where $\\mu$ represents the expected return of a portfolio, $(\\mu - r_f)$ is expected excess return over the risk-free rate and $\\sigma$ is the standard deviation of excess return. SR can be derived from the MV criterion."
   ]
  },
  {
   "cell_type": "code",
   "execution_count": 8,
   "metadata": {},
   "outputs": [],
   "source": [
    "# sharpe ratio\n",
    "def sharpe_ratio(mu, rf, sigma):\n",
    "    sr = (mu-rf)/sigma\n",
    "    return sr"
   ]
  },
  {
   "cell_type": "markdown",
   "metadata": {},
   "source": [
    "**Conditions**:<br>\n",
    "\n",
    "- Risk-free asset R returning the risk-free rate rf<br>\n",
    "- Investors' risk preferences are determined entirely by the knowledge of expected returns and standard deviations of returns<br>\n",
    "- Investors are risk-averse, e.g. for any degree of expected return they prefer the portfolio yielding the minimum risk<br>\n",
    "\n",
    "The SR rule is justified only if the above conditions are met and the investment that maximizes the expected utility contribution is sought. When risk aversion cannot be expressed in terms of expected value and standard deviation alone, the SR rule might lead to paradoxical conclusions (risk-adjusted performance measures not based on full return distributions can lead to irrational conclusions).\n",
    "\n",
    "\n",
    "As long as the Sharpe ratio is positive, the following applies: The higher the value of the Sharpe ratio, the better the performance of the examined investment in relation to the risk taken. If the Sharpe ratio is negative, the performance was worse than that of a risk-free investment. "
   ]
  },
  {
   "cell_type": "markdown",
   "metadata": {},
   "source": []
  },
  {
   "cell_type": "markdown",
   "metadata": {},
   "source": []
  },
  {
   "cell_type": "markdown",
   "metadata": {},
   "source": []
  },
  {
   "cell_type": "markdown",
   "metadata": {},
   "source": []
  },
  {
   "cell_type": "markdown",
   "metadata": {},
   "source": []
  },
  {
   "cell_type": "markdown",
   "metadata": {},
   "source": []
  },
  {
   "cell_type": "markdown",
   "metadata": {},
   "source": []
  },
  {
   "cell_type": "markdown",
   "metadata": {},
   "source": []
  }
 ],
 "metadata": {
  "kernelspec": {
   "display_name": "Python 3",
   "language": "python",
   "name": "python3"
  },
  "language_info": {
   "codemirror_mode": {
    "name": "ipython",
    "version": 3
   },
   "file_extension": ".py",
   "mimetype": "text/x-python",
   "name": "python",
   "nbconvert_exporter": "python",
   "pygments_lexer": "ipython3",
   "version": "3.7.6"
  }
 },
 "nbformat": 4,
 "nbformat_minor": 4
}
